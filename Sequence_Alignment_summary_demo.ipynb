{
  "nbformat": 4,
  "nbformat_minor": 0,
  "metadata": {
    "colab": {
      "provenance": [],
      "authorship_tag": "ABX9TyPtmFpQ3cN6IRpgRcj5Ku0K",
      "include_colab_link": true
    },
    "kernelspec": {
      "name": "python3",
      "display_name": "Python 3"
    },
    "language_info": {
      "name": "python"
    }
  },
  "cells": [
    {
      "cell_type": "markdown",
      "metadata": {
        "id": "view-in-github",
        "colab_type": "text"
      },
      "source": [
        "<a href=\"https://colab.research.google.com/github/Angel030331/SARS-CoV-2-sequence-exploratory-analysis/blob/main/Sequence_Alignment_summary_demo.ipynb\" target=\"_parent\"><img src=\"https://colab.research.google.com/assets/colab-badge.svg\" alt=\"Open In Colab\"/></a>"
      ]
    },
    {
      "cell_type": "markdown",
      "source": [
        "# Summarising the differences in sequences\n",
        "\n",
        "After the alignment of sequences using MAFFT by linux command line, Aliview is used to visualise the differences and also translate the nucleotide sequences into amino acid sequences.\n",
        "\n",
        "* Input file in Aliview: Aligned multiple sequences from MAFFT\n",
        "* Input file in python:\n",
        "  * Unaligned sequences downloaded from GISAID\n",
        "  * Aligned sequences from MAFFT\n",
        "  * Aligned and translated amino acid sequences from Aliview\n",
        "\n",
        "The following demonstration is for summarising the differences in nucleotide sequences & amino acid sequences\n",
        "\n",
        "File used in this demonstration:\n",
        "* GISAID raw file: gisaid_hcov_19.fasta\n",
        "* GISAID aligned file: gisaid_hcov_19_aligned.fasta\n",
        "* GISAID translated file: gisaid_hcov_19_aligned.translated.fasta"
      ],
      "metadata": {
        "id": "05IzSucmtmKK"
      }
    },
    {
      "cell_type": "markdown",
      "source": [
        "## Importing Biopython packages"
      ],
      "metadata": {
        "id": "IlgEQ_dWs3Th"
      }
    },
    {
      "cell_type": "code",
      "execution_count": 2,
      "metadata": {
        "colab": {
          "base_uri": "https://localhost:8080/"
        },
        "id": "moWGCNhirjNQ",
        "outputId": "3a9ec08c-8447-42e5-91b6-362e5e16afb6"
      },
      "outputs": [
        {
          "output_type": "stream",
          "name": "stdout",
          "text": [
            "Collecting biopython\n",
            "  Downloading biopython-1.83-cp310-cp310-manylinux_2_17_x86_64.manylinux2014_x86_64.whl (3.1 MB)\n",
            "\u001b[2K     \u001b[90m━━━━━━━━━━━━━━━━━━━━━━━━━━━━━━━━━━━━━━━━\u001b[0m \u001b[32m3.1/3.1 MB\u001b[0m \u001b[31m16.8 MB/s\u001b[0m eta \u001b[36m0:00:00\u001b[0m\n",
            "\u001b[?25hRequirement already satisfied: numpy in /usr/local/lib/python3.10/dist-packages (from biopython) (1.23.5)\n",
            "Installing collected packages: biopython\n",
            "Successfully installed biopython-1.83\n"
          ]
        }
      ],
      "source": [
        "!pip install biopython\n",
        "from Bio.Seq import Seq\n",
        "from Bio import AlignIO\n",
        "from Bio import SeqIO"
      ]
    },
    {
      "cell_type": "markdown",
      "source": [
        "## Summarization of nucleotide sequences differences"
      ],
      "metadata": {
        "id": "sYIK3jFQyLtJ"
      }
    },
    {
      "cell_type": "markdown",
      "source": [
        "### Use AlignIO.read to read the aligned file"
      ],
      "metadata": {
        "id": "J76WB0kqyZ-s"
      }
    },
    {
      "cell_type": "code",
      "source": [
        "hcov_19_aligned = AlignIO.read('gisaid_hcov_19_aligned.fasta', 'fasta')\n",
        "\n",
        "for seq in hcov_19_aligned:\n",
        "    print(seq)"
      ],
      "metadata": {
        "colab": {
          "base_uri": "https://localhost:8080/"
        },
        "id": "YUmOL_N2rr3W",
        "outputId": "5902cedb-9040-4959-961e-4df9cfd5559a"
      },
      "execution_count": 3,
      "outputs": [
        {
          "output_type": "stream",
          "name": "stdout",
          "text": [
            "ID: hCoV-19/Italy/VEN-IZSVe-21RS1571-1_VI/2021|EPI_ISL_2927997|2021-06-05\n",
            "Name: hCoV-19/Italy/VEN-IZSVe-21RS1571-1_VI/2021|EPI_ISL_2927997|2021-06-05\n",
            "Description: hCoV-19/Italy/VEN-IZSVe-21RS1571-1_VI/2021|EPI_ISL_2927997|2021-06-05\n",
            "Number of features: 0\n",
            "Seq('tcccaggtaacaaaccaaccaactttcgatctcttgtagatctgttctctaaac...aaa')\n",
            "ID: hCoV-19/Italy/VEN-IZSVe-21RS8150-1_VI/2021|EPI_ISL_4968925|2021-09-22\n",
            "Name: hCoV-19/Italy/VEN-IZSVe-21RS8150-1_VI/2021|EPI_ISL_4968925|2021-09-22\n",
            "Description: hCoV-19/Italy/VEN-IZSVe-21RS8150-1_VI/2021|EPI_ISL_4968925|2021-09-22\n",
            "Number of features: 0\n",
            "Seq('--------------ccaaccaactttcgatctcttgtagatctgttctctaaac...---')\n",
            "ID: hCoV-19/Italy/VEN-IZSVe-21RS1721-7_VI/2021|EPI_ISL_3006795|2021-06-28\n",
            "Name: hCoV-19/Italy/VEN-IZSVe-21RS1721-7_VI/2021|EPI_ISL_3006795|2021-06-28\n",
            "Description: hCoV-19/Italy/VEN-IZSVe-21RS1721-7_VI/2021|EPI_ISL_3006795|2021-06-28\n",
            "Number of features: 0\n",
            "Seq('---------------------actttcgatctcttgtagatctgttctctaaac...---')\n"
          ]
        }
      ]
    },
    {
      "cell_type": "markdown",
      "source": [
        "### Explore the sequence structure\n",
        "After using AlignIO.read() to read the fasta file, it has a rows and columns structure similar to the view interface of bioinformatics tools."
      ],
      "metadata": {
        "id": "b4SS1qDxyfrh"
      }
    },
    {
      "cell_type": "code",
      "source": [
        "# after using AlignIO.read() to read the fasta file, it has a rows and columns structure\n",
        "\n",
        "display = 0\n",
        "i = 0\n",
        "while display < 10 and i < 10:\n",
        "    characters = hcov_19_aligned[:, i]\n",
        "    print(characters)\n",
        "    display += 1\n",
        "    i += 1\n",
        "\n",
        "print(hcov_19_aligned)"
      ],
      "metadata": {
        "colab": {
          "base_uri": "https://localhost:8080/"
        },
        "id": "4-jsfK-VrtzF",
        "outputId": "72c26053-859e-47fe-b75c-19fc15bf6d57"
      },
      "execution_count": 4,
      "outputs": [
        {
          "output_type": "stream",
          "name": "stdout",
          "text": [
            "t--\n",
            "c--\n",
            "c--\n",
            "c--\n",
            "a--\n",
            "g--\n",
            "g--\n",
            "t--\n",
            "a--\n",
            "a--\n",
            "Alignment with 3 rows and 29856 columns\n",
            "tcccaggtaacaaaccaaccaactttcgatctcttgtagatctg...aaa hCoV-19/Italy/VEN-IZSVe-21RS1571-1_VI/2021|EPI_ISL_2927997|2021-06-05\n",
            "--------------ccaaccaactttcgatctcttgtagatctg...--- hCoV-19/Italy/VEN-IZSVe-21RS8150-1_VI/2021|EPI_ISL_4968925|2021-09-22\n",
            "---------------------actttcgatctcttgtagatctg...--- hCoV-19/Italy/VEN-IZSVe-21RS1721-7_VI/2021|EPI_ISL_3006795|2021-06-28\n"
          ]
        }
      ]
    },
    {
      "cell_type": "markdown",
      "source": [
        "### Summarise nucleotides differences"
      ],
      "metadata": {
        "id": "c-Q-8M0tyy_e"
      }
    },
    {
      "cell_type": "code",
      "source": [
        "length = hcov_19_aligned.get_alignment_length()\n",
        "diff_pos = {}\n",
        "i = 0\n",
        "\n",
        "while i < length:\n",
        "    characters = hcov_19_aligned[:, i]\n",
        "    characters = [nt for nt in characters if nt != '-']\n",
        "\n",
        "    if len(set(characters)) > 1:\n",
        "        diff_pos[i] = characters\n",
        "\n",
        "    i += 1\n",
        "\n",
        "print(diff_pos)\n",
        "\n",
        "for k,v in diff_pos.items():\n",
        "  print(f'position: {k}: {v}')"
      ],
      "metadata": {
        "colab": {
          "base_uri": "https://localhost:8080/"
        },
        "id": "DBdwH3jir1eu",
        "outputId": "ce1de35e-1dcd-46d8-c0a5-61ecec36730c"
      },
      "execution_count": 10,
      "outputs": [
        {
          "output_type": "stream",
          "name": "stdout",
          "text": [
            "{328: ['c', 'c', 't'], 3290: ['g', 'g', 'a'], 5126: ['t', 't', 'c'], 7513: ['a', 'a', 'g'], 7731: ['t', 't', 'c'], 9147: ['c', 't', 'c'], 9593: ['c', 'c', 't'], 9839: ['t', 'c', 'c'], 10011: ['c', 't', 't'], 11065: ['g', 'g', 't'], 12466: ['c', 'c', 't'], 12906: ['c', 'c', 't'], 14274: ['c', 'c', 't'], 16869: ['t', 'c', 'c'], 20114: ['t', 't', 'c'], 21582: ['t', 'g', 'g'], 21591: ['c', 'c', 't'], 21828: ['c', 'c', 't'], 21962: ['t', 't', 'c'], 21972: ['t', 't', 'a'], 22307: ['t', 't', 'n'], 22308: ['y', 'c', 'n'], 22309: ['t', 't', 'n'], 22310: ['t', 't', 'n'], 22311: ['c', 'c', 'n'], 22312: ['a', 'a', 'n'], 22477: ['a', 'a', 'n'], 22478: ['a', 'a', 'n'], 22479: ['t', 't', 'n'], 22480: ['c', 'c', 'n'], 22481: ['t', 't', 'n'], 22482: ['a', 'a', 'n'], 22483: ['t', 't', 'n'], 22484: ['c', 'c', 'n'], 22485: ['a', 'a', 'n'], 22486: ['a', 'a', 'n'], 22487: ['a', 'a', 'n'], 22488: ['c', 'c', 'n'], 22489: ['t', 't', 'n'], 22490: ['t', 't', 'n'], 22491: ['c', 'c', 'n'], 22492: ['t', 't', 'n'], 22493: ['a', 'a', 'n'], 22494: ['a', 'a', 'n'], 22495: ['c', 'c', 'n'], 22496: ['t', 't', 'n'], 22497: ['t', 't', 'n'], 22498: ['t', 't', 'n'], 22499: ['a', 'a', 'n'], 22500: ['g', 'g', 'n'], 22501: ['a', 'a', 'n'], 22502: ['g', 'g', 'n'], 22503: ['t', 't', 'n'], 22504: ['c', 'c', 'n'], 22505: ['c', 'c', 'n'], 22506: ['a', 'a', 'n'], 22507: ['a', 'a', 'n'], 22508: ['c', 'c', 'n'], 22509: ['c', 'c', 'n'], 22510: ['a', 'a', 'n'], 22511: ['a', 'a', 'n'], 22512: ['c', 'c', 'n'], 22513: ['a', 'a', 'n'], 22514: ['g', 'g', 'n'], 22515: ['a', 'a', 'n'], 22516: ['a', 'a', 'n'], 22517: ['t', 't', 'n'], 22518: ['c', 'c', 'n'], 22519: ['t', 't', 'n'], 22520: ['a', 'a', 'n'], 22521: ['t', 't', 'n'], 22522: ['t', 't', 'n'], 22523: ['g', 'g', 'n'], 22524: ['t', 't', 'n'], 22767: ['g', 'a', 'g'], 22880: ['g', 'g', 'a'], 22994: ['g', 'a', 'g'], 22995: ['a', 'a', 'c'], 23012: ['c', 'c', 't'], 23024: ['c', 'c', 't'], 23573: ['a', 'a', 'c'], 23607: ['c', 'c', 't'], 23784: ['c', 'c', 't'], 25898: ['t', 't', 'c'], 26749: ['c', 'c', 'g'], 28253: ['a', 'c', 'c'], 28255: ['t', 'a', 'a'], 28343: ['c', 'g', 'g'], 28866: ['t', 'g', 'g']}\n",
            "position: 328: ['c', 'c', 't']\n",
            "position: 3290: ['g', 'g', 'a']\n",
            "position: 5126: ['t', 't', 'c']\n",
            "position: 7513: ['a', 'a', 'g']\n",
            "position: 7731: ['t', 't', 'c']\n",
            "position: 9147: ['c', 't', 'c']\n",
            "position: 9593: ['c', 'c', 't']\n",
            "position: 9839: ['t', 'c', 'c']\n",
            "position: 10011: ['c', 't', 't']\n",
            "position: 11065: ['g', 'g', 't']\n",
            "position: 12466: ['c', 'c', 't']\n",
            "position: 12906: ['c', 'c', 't']\n",
            "position: 14274: ['c', 'c', 't']\n",
            "position: 16869: ['t', 'c', 'c']\n",
            "position: 20114: ['t', 't', 'c']\n",
            "position: 21582: ['t', 'g', 'g']\n",
            "position: 21591: ['c', 'c', 't']\n",
            "position: 21828: ['c', 'c', 't']\n",
            "position: 21962: ['t', 't', 'c']\n",
            "position: 21972: ['t', 't', 'a']\n",
            "position: 22307: ['t', 't', 'n']\n",
            "position: 22308: ['y', 'c', 'n']\n",
            "position: 22309: ['t', 't', 'n']\n",
            "position: 22310: ['t', 't', 'n']\n",
            "position: 22311: ['c', 'c', 'n']\n",
            "position: 22312: ['a', 'a', 'n']\n",
            "position: 22477: ['a', 'a', 'n']\n",
            "position: 22478: ['a', 'a', 'n']\n",
            "position: 22479: ['t', 't', 'n']\n",
            "position: 22480: ['c', 'c', 'n']\n",
            "position: 22481: ['t', 't', 'n']\n",
            "position: 22482: ['a', 'a', 'n']\n",
            "position: 22483: ['t', 't', 'n']\n",
            "position: 22484: ['c', 'c', 'n']\n",
            "position: 22485: ['a', 'a', 'n']\n",
            "position: 22486: ['a', 'a', 'n']\n",
            "position: 22487: ['a', 'a', 'n']\n",
            "position: 22488: ['c', 'c', 'n']\n",
            "position: 22489: ['t', 't', 'n']\n",
            "position: 22490: ['t', 't', 'n']\n",
            "position: 22491: ['c', 'c', 'n']\n",
            "position: 22492: ['t', 't', 'n']\n",
            "position: 22493: ['a', 'a', 'n']\n",
            "position: 22494: ['a', 'a', 'n']\n",
            "position: 22495: ['c', 'c', 'n']\n",
            "position: 22496: ['t', 't', 'n']\n",
            "position: 22497: ['t', 't', 'n']\n",
            "position: 22498: ['t', 't', 'n']\n",
            "position: 22499: ['a', 'a', 'n']\n",
            "position: 22500: ['g', 'g', 'n']\n",
            "position: 22501: ['a', 'a', 'n']\n",
            "position: 22502: ['g', 'g', 'n']\n",
            "position: 22503: ['t', 't', 'n']\n",
            "position: 22504: ['c', 'c', 'n']\n",
            "position: 22505: ['c', 'c', 'n']\n",
            "position: 22506: ['a', 'a', 'n']\n",
            "position: 22507: ['a', 'a', 'n']\n",
            "position: 22508: ['c', 'c', 'n']\n",
            "position: 22509: ['c', 'c', 'n']\n",
            "position: 22510: ['a', 'a', 'n']\n",
            "position: 22511: ['a', 'a', 'n']\n",
            "position: 22512: ['c', 'c', 'n']\n",
            "position: 22513: ['a', 'a', 'n']\n",
            "position: 22514: ['g', 'g', 'n']\n",
            "position: 22515: ['a', 'a', 'n']\n",
            "position: 22516: ['a', 'a', 'n']\n",
            "position: 22517: ['t', 't', 'n']\n",
            "position: 22518: ['c', 'c', 'n']\n",
            "position: 22519: ['t', 't', 'n']\n",
            "position: 22520: ['a', 'a', 'n']\n",
            "position: 22521: ['t', 't', 'n']\n",
            "position: 22522: ['t', 't', 'n']\n",
            "position: 22523: ['g', 'g', 'n']\n",
            "position: 22524: ['t', 't', 'n']\n",
            "position: 22767: ['g', 'a', 'g']\n",
            "position: 22880: ['g', 'g', 'a']\n",
            "position: 22994: ['g', 'a', 'g']\n",
            "position: 22995: ['a', 'a', 'c']\n",
            "position: 23012: ['c', 'c', 't']\n",
            "position: 23024: ['c', 'c', 't']\n",
            "position: 23573: ['a', 'a', 'c']\n",
            "position: 23607: ['c', 'c', 't']\n",
            "position: 23784: ['c', 'c', 't']\n",
            "position: 25898: ['t', 't', 'c']\n",
            "position: 26749: ['c', 'c', 'g']\n",
            "position: 28253: ['a', 'c', 'c']\n",
            "position: 28255: ['t', 'a', 'a']\n",
            "position: 28343: ['c', 'g', 'g']\n",
            "position: 28866: ['t', 'g', 'g']\n"
          ]
        }
      ]
    },
    {
      "cell_type": "markdown",
      "source": [
        "### Write nucleotides differences into csv file\n",
        "source code: https://blog.finxter.com/write-python-dict-to-csv-columns-keys-first-values-second-column/"
      ],
      "metadata": {
        "id": "75MZ_xgey9Gl"
      }
    },
    {
      "cell_type": "code",
      "source": [
        "import csv\n",
        "\n",
        "with open('nt_mismatch.csv', 'w', newline = '') as f:\n",
        "\n",
        "  # Create a csv writer object\n",
        "  writer = csv.writer(f)\n",
        "\n",
        "  # Write the header row\n",
        "  writer.writerow(['Position', 'Nucleotides variations'])\n",
        "  # Write one key-value tuple per row\n",
        "  for k, v in diff_pos.items():\n",
        "    writer.writerow([k, v])"
      ],
      "metadata": {
        "id": "ywLZ2T5tsy0x"
      },
      "execution_count": 11,
      "outputs": []
    },
    {
      "cell_type": "markdown",
      "source": [
        "## Summarization of amino aicd sequences differences"
      ],
      "metadata": {
        "id": "99ktLM0d0jil"
      }
    },
    {
      "cell_type": "markdown",
      "source": [
        "### Use AlignIO.read to read the aligned file"
      ],
      "metadata": {
        "id": "zys2bTGQ0xCp"
      }
    },
    {
      "cell_type": "code",
      "source": [
        "hcov_19_translated = AlignIO.read('gisaid_hcov_19_aligned.translated.fasta', 'fasta')\n",
        "\n",
        "for seq in hcov_19_translated:\n",
        "    print(seq)\n",
        "\n",
        "display = 0\n",
        "i = 0\n",
        "while display < 10 and i < 10:\n",
        "    characters = hcov_19_translated[:, i]\n",
        "    print(characters)\n",
        "    display += 1\n",
        "    i += 1\n",
        "\n",
        "print(hcov_19_translated)"
      ],
      "metadata": {
        "colab": {
          "base_uri": "https://localhost:8080/"
        },
        "id": "eWtyzEal0qlr",
        "outputId": "0df4e9c1-07a8-4352-d859-b365d3869e86"
      },
      "execution_count": 13,
      "outputs": [
        {
          "output_type": "stream",
          "name": "stdout",
          "text": [
            "ID: hCoV-19/Italy/VEN-IZSVe-21RS1571-1_VI/2021|EPI_ISL_2927997|2021-06-05\n",
            "Name: hCoV-19/Italy/VEN-IZSVe-21RS1571-1_VI/2021|EPI_ISL_2927997|2021-06-05\n",
            "Description: hCoV-19/Italy/VEN-IZSVe-21RS1571-1_VI/2021|EPI_ISL_2927997|2021-06-05\n",
            "Number of features: 0\n",
            "Seq('SQVTNQPTFDLLXICSLNELXNLCGCHSAACLVHSRSIINNXLLSLTGHEXLVY...XXK')\n",
            "ID: hCoV-19/Italy/VEN-IZSVe-21RS8150-1_VI/2021|EPI_ISL_4968925|2021-09-22\n",
            "Name: hCoV-19/Italy/VEN-IZSVe-21RS8150-1_VI/2021|EPI_ISL_4968925|2021-09-22\n",
            "Description: hCoV-19/Italy/VEN-IZSVe-21RS8150-1_VI/2021|EPI_ISL_4968925|2021-09-22\n",
            "Number of features: 0\n",
            "Seq('----XQPTFDLLXICSLNELXNLCGCHSAACLVHSRSIINNXLLSLTGHEXLVY...---')\n",
            "ID: hCoV-19/Italy/VEN-IZSVe-21RS1721-7_VI/2021|EPI_ISL_3006795|2021-06-28\n",
            "Name: hCoV-19/Italy/VEN-IZSVe-21RS1721-7_VI/2021|EPI_ISL_3006795|2021-06-28\n",
            "Description: hCoV-19/Italy/VEN-IZSVe-21RS1721-7_VI/2021|EPI_ISL_3006795|2021-06-28\n",
            "Number of features: 0\n",
            "Seq('-------TFDLLXICSLNELXNLCGCHSAACLVHSRSIINNXLLSLTGHEXLVY...---')\n",
            "S--\n",
            "Q--\n",
            "V--\n",
            "T--\n",
            "NX-\n",
            "QQ-\n",
            "PP-\n",
            "TTT\n",
            "FFF\n",
            "DDD\n",
            "Alignment with 3 rows and 9952 columns\n",
            "SQVTNQPTFDLLXICSLNELXNLCGCHSAACLVHSRSIINNXLL...XXK hCoV-19/Italy/VEN-IZSVe-21RS1571-1_VI/2021|EPI_ISL_2927997|2021-06-05\n",
            "----XQPTFDLLXICSLNELXNLCGCHSAACLVHSRSIINNXLL...--- hCoV-19/Italy/VEN-IZSVe-21RS8150-1_VI/2021|EPI_ISL_4968925|2021-09-22\n",
            "-------TFDLLXICSLNELXNLCGCHSAACLVHSRSIINNXLL...--- hCoV-19/Italy/VEN-IZSVe-21RS1721-7_VI/2021|EPI_ISL_3006795|2021-06-28\n"
          ]
        }
      ]
    },
    {
      "cell_type": "markdown",
      "source": [
        "### Summarise amino acids differences"
      ],
      "metadata": {
        "id": "drft4PFN1PJO"
      }
    },
    {
      "cell_type": "code",
      "source": [
        "length_aa = hcov_19_translated.get_alignment_length()\n",
        "diff_pos_aa = {}\n",
        "i = 0\n",
        "\n",
        "while i < length_aa:\n",
        "    residue = hcov_19_translated[:, i]\n",
        "    residue = [aa for aa in residue if aa != '-']\n",
        "\n",
        "    if len(set(residue)) > 1:\n",
        "        diff_pos_aa[i] = residue\n",
        "\n",
        "    i += 1\n",
        "\n",
        "print(diff_pos_aa)\n",
        "\n",
        "for k,v in diff_pos_aa.items():\n",
        "  print(f'position: {k}: {v}')"
      ],
      "metadata": {
        "colab": {
          "base_uri": "https://localhost:8080/"
        },
        "id": "yYToe3QF1UY3",
        "outputId": "8b8c69e1-c87b-46f7-eb72-4dac03bc78a7"
      },
      "execution_count": 14,
      "outputs": [
        {
          "output_type": "stream",
          "name": "stdout",
          "text": [
            "{4: ['N', 'X'], 109: ['S', 'S', 'L'], 1096: ['W', 'W', 'X'], 2504: ['N', 'N', 'S'], 2577: ['X', 'X', 'Q'], 3049: ['P', 'S', 'P'], 3337: ['P', 'S', 'S'], 3688: ['C', 'C', 'F'], 4155: ['S', 'S', 'L'], 4758: ['P', 'P', 'S'], 5623: ['X', 'Q', 'Q'], 7194: ['F', 'V', 'V'], 7324: ['X', 'F', 'X'], 7325: ['X', 'I', 'X'], 7422: ['X', 'X', 'Y'], 7427: ['X', 'X', 'E'], 7435: ['L', 'L', 'X'], 7436: ['X', 'L', 'X'], 7437: ['Q', 'Q', 'X'], 7492: ['E', 'E', 'X'], 7493: ['S', 'S', 'X'], 7494: ['I', 'I', 'X'], 7495: ['K', 'K', 'X'], 7496: ['L', 'L', 'X'], 7497: ['L', 'L', 'X'], 7498: ['T', 'T', 'X'], 7499: ['L', 'L', 'X'], 7500: ['E', 'E', 'X'], 7501: ['S', 'S', 'X'], 7502: ['N', 'N', 'X'], 7503: ['Q', 'Q', 'X'], 7504: ['Q', 'Q', 'X'], 7505: ['N', 'N', 'X'], 7506: ['L', 'L', 'X'], 7507: ['L', 'L', 'X'], 7508: ['L', 'L', 'X'], 7589: ['D', 'N', 'D'], 7665: ['K', 'K', 'Q'], 8916: ['T', 'T', 'S'], 9418: ['I', 'K', 'K'], 9447: ['I', 'M', 'M'], 9622: ['X', 'E', 'E']}\n",
            "position: 4: ['N', 'X']\n",
            "position: 109: ['S', 'S', 'L']\n",
            "position: 1096: ['W', 'W', 'X']\n",
            "position: 2504: ['N', 'N', 'S']\n",
            "position: 2577: ['X', 'X', 'Q']\n",
            "position: 3049: ['P', 'S', 'P']\n",
            "position: 3337: ['P', 'S', 'S']\n",
            "position: 3688: ['C', 'C', 'F']\n",
            "position: 4155: ['S', 'S', 'L']\n",
            "position: 4758: ['P', 'P', 'S']\n",
            "position: 5623: ['X', 'Q', 'Q']\n",
            "position: 7194: ['F', 'V', 'V']\n",
            "position: 7324: ['X', 'F', 'X']\n",
            "position: 7325: ['X', 'I', 'X']\n",
            "position: 7422: ['X', 'X', 'Y']\n",
            "position: 7427: ['X', 'X', 'E']\n",
            "position: 7435: ['L', 'L', 'X']\n",
            "position: 7436: ['X', 'L', 'X']\n",
            "position: 7437: ['Q', 'Q', 'X']\n",
            "position: 7492: ['E', 'E', 'X']\n",
            "position: 7493: ['S', 'S', 'X']\n",
            "position: 7494: ['I', 'I', 'X']\n",
            "position: 7495: ['K', 'K', 'X']\n",
            "position: 7496: ['L', 'L', 'X']\n",
            "position: 7497: ['L', 'L', 'X']\n",
            "position: 7498: ['T', 'T', 'X']\n",
            "position: 7499: ['L', 'L', 'X']\n",
            "position: 7500: ['E', 'E', 'X']\n",
            "position: 7501: ['S', 'S', 'X']\n",
            "position: 7502: ['N', 'N', 'X']\n",
            "position: 7503: ['Q', 'Q', 'X']\n",
            "position: 7504: ['Q', 'Q', 'X']\n",
            "position: 7505: ['N', 'N', 'X']\n",
            "position: 7506: ['L', 'L', 'X']\n",
            "position: 7507: ['L', 'L', 'X']\n",
            "position: 7508: ['L', 'L', 'X']\n",
            "position: 7589: ['D', 'N', 'D']\n",
            "position: 7665: ['K', 'K', 'Q']\n",
            "position: 8916: ['T', 'T', 'S']\n",
            "position: 9418: ['I', 'K', 'K']\n",
            "position: 9447: ['I', 'M', 'M']\n",
            "position: 9622: ['X', 'E', 'E']\n"
          ]
        }
      ]
    },
    {
      "cell_type": "markdown",
      "source": [
        "### Write amino acids differences into csv file"
      ],
      "metadata": {
        "id": "cHH3mujW1vpq"
      }
    },
    {
      "cell_type": "code",
      "source": [
        "import csv\n",
        "\n",
        "with open('AA_mismatch.csv', 'w', newline = '') as f:\n",
        "\n",
        "  # Create a csv writer object\n",
        "  writer = csv.writer(f)\n",
        "\n",
        "  # Write the header row\n",
        "  writer.writerow(['Position', 'Amino Acids variations'])\n",
        "  # Write one key-value tuple per row\n",
        "  for k, v in diff_pos_aa.items():\n",
        "    writer.writerow([k, v])"
      ],
      "metadata": {
        "id": "6co7cG3Y12Rn"
      },
      "execution_count": 15,
      "outputs": []
    },
    {
      "cell_type": "markdown",
      "source": [
        "### Remarks\n",
        "All the position number starts from 0\n",
        "(as index in Python starts from 0). Please feel free to modify the codes for more customised usage."
      ],
      "metadata": {
        "id": "OB6K37c52j43"
      }
    }
  ]
}